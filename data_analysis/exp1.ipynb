{
 "cells": [
  {
   "cell_type": "code",
   "execution_count": null,
   "id": "f1415e11",
   "metadata": {},
   "outputs": [],
   "source": [
    "import pandas as pd\n",
    "import glob\n",
    "import os\n",
    "import seaborn as sns"
   ]
  },
  {
   "cell_type": "code",
   "execution_count": null,
   "id": "998b556f",
   "metadata": {},
   "outputs": [],
   "source": [
    "limstd_path = r'..\\\\RANDFALSECTAS'\n",
    "limsurge_path = r'..\\\\LIMSURGEEXP'\n",
    "unlimstd_path = r'..\\\\UNLIMSTDEXP'\n",
    "unlimsurge_path = r'..\\\\UNLIMSURGEEXP'\n",
    "\n",
    "df_lstd = pd.concat((pd.read_csv(file) for file in glob.glob(os.path.join(limstd_path,\"*.csv\"))), ignore_index=True)\n",
    "df_lsrg = pd.concat((pd.read_csv(file) for file in glob.glob(os.path.join(limsurge_path,\"*.csv\"))), ignore_index=True)\n",
    "df_ustd = pd.concat((pd.read_csv(file) for file in glob.glob(os.path.join(unlimstd_path,\"*.csv\"))), ignore_index=True)\n",
    "df_usrg = pd.concat((pd.read_csv(file) for file in glob.glob(os.path.join(unlimsurge_path,\"*.csv\"))), ignore_index=True)"
   ]
  },
  {
   "cell_type": "code",
   "execution_count": null,
   "id": "332eca45",
   "metadata": {},
   "outputs": [],
   "source": [
    "sns.lineplot(x='Hour',y='Total Wait Time', data=df_lstd,label='Limited Staffing').set_title(\"Total Wait Time (Standard Arrivals)\")\n",
    "sns.lineplot(x='Hour',y='Total Wait Time', data=df_ustd,label='Unlimited Staffing')"
   ]
  },
  {
   "cell_type": "code",
   "execution_count": null,
   "id": "cb3386e5",
   "metadata": {},
   "outputs": [],
   "source": [
    "sns.lineplot(x='Hour',y='Average Wait Time', data=df_lstd,label='Limited Staffing').set_title(\"Average Wait Time (Standard Arrivals)\")\n",
    "sns.lineplot(x='Hour',y='Average Wait Time', data=df_ustd,label='Unlimited Staffing')"
   ]
  },
  {
   "cell_type": "code",
   "execution_count": null,
   "id": "4c686a3d",
   "metadata": {},
   "outputs": [],
   "source": [
    "sns.lineplot(x='Hour',y='Available Beds', data=df_lstd,label='Limited Staffing').set_title(\"Available Beds (Standard Arrivals)\")\n",
    "sns.lineplot(x='Hour',y='Available Beds', data=df_ustd,label='Unlimited Staffing')"
   ]
  },
  {
   "cell_type": "code",
   "execution_count": null,
   "id": "94758148",
   "metadata": {},
   "outputs": [],
   "source": [
    "sns.lineplot(x='Hour',y='Total Wait Time', data=df_lsrg,label='Limited Staffing').set_title(\"Total Wait Time (3rd-week Surge)\")\n",
    "sns.lineplot(x='Hour',y='Total Wait Time', data=df_usrg,label='Unlimited Staffing')"
   ]
  },
  {
   "cell_type": "code",
   "execution_count": null,
   "id": "56247d40",
   "metadata": {},
   "outputs": [],
   "source": [
    "sns.lineplot(x='Hour',y='Average Wait Time', data=df_lstd,label='Limited Staffing').set_title(\"Average Wait Time (3rd-week Surge)\")\n",
    "sns.lineplot(x='Hour',y='Average Wait Time', data=df_ustd,label='Unlimited Staffing')"
   ]
  },
  {
   "cell_type": "code",
   "execution_count": null,
   "id": "3f99d5ca",
   "metadata": {},
   "outputs": [],
   "source": [
    "sns.lineplot(x='Hour',y='Available Beds', data=df_lstd,label='Limited Staffing').set_title(\"Available Beds (3rd-week Surge)\")\n",
    "sns.lineplot(x='Hour',y='Available Beds', data=df_ustd,label='Unlimited Staffing')"
   ]
  }
 ],
 "metadata": {
  "kernelspec": {
   "display_name": "Python 3",
   "language": "python",
   "name": "python3"
  },
  "language_info": {
   "codemirror_mode": {
    "name": "ipython",
    "version": 3
   },
   "file_extension": ".py",
   "mimetype": "text/x-python",
   "name": "python",
   "nbconvert_exporter": "python",
   "pygments_lexer": "ipython3",
   "version": "3.12.2"
  }
 },
 "nbformat": 4,
 "nbformat_minor": 5
}
