{
 "cells": [
  {
   "cell_type": "markdown",
   "id": "c3489ea1",
   "metadata": {},
   "source": [
    "# Data Analysis and Data Extraction\n",
    "\n",
    "---\n",
    "\n",
    "## 1. Introduction\n",
    "\n",
    "This notebook provides a reproducible and statistically grounded analysis to support Project 2.2: Hospital Simulation. The goal is to model patient arrivals and characteristics in an emergency department (ED) based on real-world data, enabling realistic input generation for a discrete-event simulation.\n",
    "\n",
    "### Objectives\n",
    "\n",
    "- Extract and preprocess historical ED visit data from HCUP (Healthcare Cost and Utilization Project) Excel files.\n",
    "- Identify and model temporal trends in patient arrivals (monthly, daily, and hourly patterns).\n",
    "- Estimate a sinusoidal function to capture seasonal variation in arrival rates.\n",
    "- Derive multiplicative correction factors for day-of-week and time-of-day effects from external studies.\n",
    "- Construct a diagnosis distribution for arriving patients based on pre-COVID empirical frequencies.\n",
    "\n",
    "### Assumptions\n",
    "\n",
    "1. **Data Reliability**: We assume that HCUP public data is accurate and representative of typical ED behavior in Oregon hospitals.\n",
    "2. **Stationarity Pre-COVID**: Only data from 2017 to 2019 is used to avoid the confounding effects of the COVID-19 pandemic. We assume these years reflect a stationary process for modeling purposes.\n",
    "3. **Seasonal Variation**: The observed monthly variation in ED arrivals is assumed to follow a sinusoidal trend, consistent with literature in healthcare operations.\n",
    "4. **Additive Decomposition**: Arrival patterns are modeled using multiplicative factors:  \n",
    "   $$\n",
    "   \\lambda(m, d, h) = f(m) \\cdot F_\\text{weekday}(d) \\cdot F_\\text{hour}(h)\n",
    "   $$\n",
    "   where each component is assumed to independently affect the arrival rate.\n",
    "5. **Poisson Process**: Hourly patient arrivals are assumed to follow a Poisson distribution with the computed rate $\\lambda$, in line with standard queuing and simulation modeling practices.\n",
    "6. **Diagnosis Sampling**: Diagnoses are assigned independently using a discrete probability distribution estimated from historical frequencies. Co-morbidities and repeated visits are not modeled.\n",
    "\n",
    "### Output\n",
    "\n",
    "The result of this analysis is a parameterized arrival model and a diagnosis generator, both of which can be directly used as stochastic input functions in a discrete-event simulation of an ED.\n",
    "\n",
    "All code, transformations, and assumptions are fully documented in the subsequent sections to ensure transparency and statistical rigor.\n"
   ]
  },
  {
   "cell_type": "markdown",
   "id": "e4316639",
   "metadata": {},
   "source": [
    "---\n",
    "\n",
    "# 2. Data Loading and Preprocessing\n",
    "\n",
    "This section outlines the loading and preparation of emergency department (ED) data from the Healthcare Cost and Utilization Project (HCUP). Two Excel files containing monthly summary statistics for Oregon are used:\n",
    "\n",
    "- `HCUP_SummaryTrendTables_T1.xlsx`: Contains operational statistics such as ED volumes and admissions.\n",
    "- `HCUP_SummaryTrendTables_T16a.xlsx`: Contains patient characteristics and diagnosis data.\n",
    "\n",
    "The goal is to extract specific labeled sections from each file and prepare them for analysis.\n",
    "\n",
    "\n",
    "## 2.1 Loading the Excel Data\n",
    "\n",
    "We begin by loading the first Excel file and promoting the correct row to column headers. This is necessary due to inconsistent formatting (extra rows before headers) common in administrative Excel reports.\n"
   ]
  },
  {
   "cell_type": "code",
   "execution_count": 46,
   "id": "994b9261",
   "metadata": {},
   "outputs": [],
   "source": [
    "import pandas as pd\n",
    "\n",
    "# Load the Excel file and select the relevant sheet\n",
    "file_path = 'HCUP_SummaryTrendTables_T1.xlsx'\n",
    "excel_file = pd.ExcelFile(file_path)\n",
    "df = excel_file.parse('Oregon')  # Replace with actual sheet name if different\n",
    "\n",
    "# Promote the 5th row as header and reset the index\n",
    "df.columns = df.iloc[4]\n",
    "df = df[4:].reset_index(drop=True)"
   ]
  },
  {
   "cell_type": "markdown",
   "id": "f1f8cc69",
   "metadata": {},
   "source": [
    "## 2.2 Section Extraction Function\n",
    "\n",
    "The HCUP data is divided into multiple labeled sections within a single sheet. We define a function to extract these sections based on a list of known labels.\n",
    "\n",
    "**Function:** `extract_sections_from_excel`\n",
    "\n",
    "This function searches for each label in the first column, determines the row index of the start of each section, and then extracts the data between those row markers. It also formats each extracted section for time series analysis.\n"
   ]
  },
  {
   "cell_type": "code",
   "execution_count": 47,
   "id": "fb7cc5f5",
   "metadata": {},
   "outputs": [],
   "source": [
    "import numpy as np\n",
    "from typing import List, Dict\n",
    "\n",
    "def extract_sections_from_excel(section_names: List[str], df: pd.DataFrame) -> Dict[str, pd.DataFrame]:\n",
    "    # Drop empty rows/columns and trim whitespace\n",
    "    df = df[df.iloc[:, 0].str.strip().astype(bool)]\n",
    "    df = df.dropna(how='all', axis=0).dropna(how='all', axis=1)\n",
    "\n",
    "    # Find section start indices\n",
    "    section_starts = {}\n",
    "    for name in section_names:\n",
    "        match = df[df.iloc[:, 0].str.strip() == name]\n",
    "        if not match.empty:\n",
    "            section_starts[name] = match.index[0]\n",
    "        else:\n",
    "            print(f\"Warning: Section '{name}' not found in the DataFrame.\")\n",
    "\n",
    "    # Sort sections and extract their respective data blocks\n",
    "    sorted_sections = sorted(section_starts.items(), key=lambda x: x[1])\n",
    "    sections = {}\n",
    "    for i, (name, start_idx) in enumerate(sorted_sections):\n",
    "        end_idx = sorted_sections[i + 1][1] if i + 1 < len(sorted_sections) else len(df)\n",
    "        section_df = df.iloc[start_idx + 1:end_idx].copy()\n",
    "        section_df.columns = df.columns\n",
    "\n",
    "        # Transpose and clean the section\n",
    "        formatted_section = section_df.iloc[:, 1:].T\n",
    "        formatted_section.columns = section_df.iloc[:, 0].values\n",
    "        formatted_section = formatted_section.apply(pd.to_numeric, errors='coerce')\n",
    "        formatted_section.index = pd.to_datetime(formatted_section.index)\n",
    "        formatted_section.index.name = 'Month'\n",
    "\n",
    "        sections[name] = formatted_section\n",
    "\n",
    "    return sections"
   ]
  },
  {
   "cell_type": "markdown",
   "id": "23472a6e",
   "metadata": {},
   "source": [
    "\n",
    "## 2.3 Extracting Sections from T1\n",
    "\n",
    "We define the list of ED-related metrics to extract from the first file:\n"
   ]
  },
  {
   "cell_type": "code",
   "execution_count": 48,
   "id": "fb0080f3",
   "metadata": {},
   "outputs": [
    {
     "name": "stdout",
     "output_type": "stream",
     "text": [
      "Sections extracted: ['Inpatient Stays', 'Occupancy', 'Intensive Care Use', 'Intensive Care Beds', 'Mechanical Ventilator Use', 'Number of Mechanical Ventilators (outside of the operating rooms)', 'Emergency Department (ED) Visits', 'ED Volume', 'ED Admission Rate']\n"
     ]
    }
   ],
   "source": [
    "section_names_T1 = [\n",
    "    \"Inpatient Stays\",\n",
    "    \"Occupancy\",\n",
    "    \"Intensive Care Use\",\n",
    "    \"Intensive Care Beds\",\n",
    "    \"Mechanical Ventilator Use\",\n",
    "    \"Number of Mechanical Ventilators (outside of the operating rooms)\",\n",
    "    \"Emergency Department (ED) Visits\",\n",
    "    \"ED Volume\",\n",
    "    \"ED Admission Rate\"\n",
    "]\n",
    "\n",
    "sections_T1 = extract_sections_from_excel(section_names_T1, df)\n",
    "print(\"Sections extracted:\", list(sections_T1.keys()))"
   ]
  },
  {
   "cell_type": "markdown",
   "id": "ee49d958",
   "metadata": {},
   "source": [
    "## 2.4 Preprocessing the Diagnosis Data (T16a)\n",
    "\n",
    "We repeat a similar process for the second file, which includes patient demographic and diagnosis-level detail:"
   ]
  },
  {
   "cell_type": "code",
   "execution_count": 49,
   "id": "152987c9",
   "metadata": {},
   "outputs": [
    {
     "name": "stdout",
     "output_type": "stream",
     "text": [
      "Sections extracted: ['Number of ED  Visits for the Month', 'Number of ED Treat-and-Release Visits by Priority Condition', 'Number of ED Treat-and-Release Visits by Age in Years at Admission', 'Number of ED Treat-and-Release Visits by Sex', 'Number of ED Treat-and-Release Visits by Patient Race and Ethnicity', \"Number of ED Treat-and-Release Visits by Urban-Rural Location of Patient's Residence\", 'Number of ED Treat-and-Release Visits by Community Income', 'Number of ED Treat-and-Release Visits by Expected Primary Payer', 'Number of ED Treat-and-Release Visits by Urban-Rural Location of the Hospital', 'Number of ED Treat-and-Release Visits for Top Conditions Defined by First-Listed Diagnosis', 'Number of ED Treat-and-Release Visits for Symptoms Defined by Any-Listed Diagnosis']\n"
     ]
    }
   ],
   "source": [
    "# Load second file\n",
    "file_path = 'HCUP_SummaryTrendTables_T16a.xlsx'\n",
    "excel_file = pd.ExcelFile(file_path)\n",
    "df = excel_file.parse('Oregon')\n",
    "\n",
    "# Promote correct header row and reset index\n",
    "df.columns = df.iloc[5]\n",
    "df = df[5:].reset_index(drop=True)\n",
    "\n",
    "# Define sections to extract\n",
    "section_names_T16a = [\n",
    "    \"Number of ED  Visits for the Month\",\n",
    "    \"Number of ED Treat-and-Release Visits by Priority Condition\",\n",
    "    \"Number of ED Treat-and-Release Visits by Age in Years at Admission\",\n",
    "    \"Number of ED Treat-and-Release Visits by Sex\",\n",
    "    \"Number of ED Treat-and-Release Visits by Patient Race and Ethnicity\",\n",
    "    \"Number of ED Treat-and-Release Visits by Urban-Rural Location of Patient's Residence\",\n",
    "    \"Number of ED Treat-and-Release Visits by Community Income\",\n",
    "    \"Number of ED Treat-and-Release Visits by Expected Primary Payer\",\n",
    "    \"Number of ED Treat-and-Release Visits by Urban-Rural Location of the Hospital\",\n",
    "    \"Number of ED Treat-and-Release Visits for Top Conditions Defined by First-Listed Diagnosis\",\n",
    "    \"Number of ED Treat-and-Release Visits for Symptoms Defined by Any-Listed Diagnosis\"\n",
    "]\n",
    "\n",
    "sections_T16a = extract_sections_from_excel(section_names_T16a, df)\n",
    "print(\"Sections extracted:\", list(sections_T16a.keys()))"
   ]
  },
  {
   "cell_type": "markdown",
   "id": "c1f5798e",
   "metadata": {},
   "source": [
    "## 2.5 Assumptions and Considerations\n",
    "\n",
    "* **Time Indexing**: All monthly data is assumed to be reported with the first day of each month as its timestamp (e.g., `2017-01-01` for January 2017).\n",
    "* **Section Names**: Section names are extracted manually from the file to ensure correct and relevant section are used.\n",
    "* **Missing Data**: Missing values from formatting issues or inconsistent Excel structure are handled via automatic `NaN` propagation.\n",
    "* **Consistency**: Preprocessing is identical across files to ensure compatibility in downstream modeling.\n",
    "\n",
    "At this stage, the relevant sections from both Excel files are cleaned, indexed by month, and stored in a dictionary format for further analysis. The next step involves analyzing temporal trends in ED arrivals."
   ]
  },
  {
   "cell_type": "markdown",
   "id": "c74409ac",
   "metadata": {},
   "source": [
    "---\n",
    "\n",
    "# 3. Seasonal Trend Analysis\n",
    "\n",
    "In this section, we analyze monthly trends in emergency department (ED) arrivals to detect and model seasonal variation. This is critical for generating realistic inputs to the hospital simulation model.\n",
    "\n",
    "We focus exclusively on the pre-COVID period (January 2017 to December 2019) to ensure that pandemic-related anomalies do not distort the underlying seasonal patterns."
   ]
  },
  {
   "cell_type": "markdown",
   "id": "16d336c9",
   "metadata": {},
   "source": [
    "## 3.1 Data Selection\n",
    "\n",
    "We extract the section labeled `\"ED Volume\"` from the `sections_T1` dictionary and focus on three daily volume metrics:\n",
    "\n",
    "- Average daily volume\n",
    "- Minimum daily volume\n",
    "- Maximum daily volume\n",
    "\n",
    "We limit the analysis to data before January 2020:"
   ]
  },
  {
   "cell_type": "code",
   "execution_count": 50,
   "id": "b17da777",
   "metadata": {},
   "outputs": [],
   "source": [
    "ed_visits = sections_T1['ED Volume'][\n",
    "    ['Average daily volume for all ED visits', \n",
    "     'Minimum daily volume for all ED visits', \n",
    "     'Maximum daily volume for all ED visits']\n",
    "]\n",
    "\n",
    "# Exclude COVID-19 period\n",
    "pre_covid = ed_visits.loc[ed_visits.index < '2020-01-01']"
   ]
  },
  {
   "cell_type": "markdown",
   "id": "fd7f3317",
   "metadata": {},
   "source": [
    "## 3.2 Monthly Averages\n",
    "\n",
    "To analyze seasonal trends, we compute the average number of ED visits for each calendar month (January through December) over the pre-COVID years:\n"
   ]
  },
  {
   "cell_type": "code",
   "execution_count": 51,
   "id": "e4a4ac8b",
   "metadata": {},
   "outputs": [],
   "source": [
    "# Group by month number (1 = January, ..., 12 = December)\n",
    "monthly_avg = pre_covid.groupby(pre_covid.index.month)[\n",
    "    'Average daily volume for all ED visits'\n",
    "].mean()\n",
    "\n",
    "months = np.arange(1, 13)  # Month numbers for plotting"
   ]
  },
  {
   "cell_type": "markdown",
   "id": "6702b5fe",
   "metadata": {},
   "source": [
    "## 3.3 Model Assumption\n",
    "\n",
    "We assume the monthly pattern follows a **sinusoidal function**, commonly used in healthcare operations literature to model periodic behavior:\n",
    "\n",
    "$$\n",
    "f(m) = A \\cdot \\sin\\left(\\frac{2\\pi(m - 1)}{12} + \\phi\\right) + B\n",
    "$$\n",
    "\n",
    "Where:\n",
    "\n",
    "* $m$ is the month number (1–12),\n",
    "* $A$ is the amplitude (magnitude of seasonal variation),\n",
    "* $\\phi$ is the phase shift (timing offset),\n",
    "* $B$ is the baseline (average volume)."
   ]
  },
  {
   "cell_type": "markdown",
   "id": "cdec7f64",
   "metadata": {},
   "source": [
    "## 3.4 Curve Fitting\n",
    "\n",
    "We fit the sinusoidal function to the monthly average data using non-linear least squares via `scipy.optimize.curve_fit`.\n"
   ]
  },
  {
   "cell_type": "code",
   "execution_count": 52,
   "id": "7e3ab148",
   "metadata": {},
   "outputs": [
    {
     "name": "stdout",
     "output_type": "stream",
     "text": [
      "Fitted parameters: A = 87.81, phi = 0.13, B = 4237.56\n"
     ]
    }
   ],
   "source": [
    "from scipy.optimize import curve_fit\n",
    "import numpy as np\n",
    "\n",
    "# Define sinusoidal function\n",
    "def seasonal_func(t, A, phi, B):\n",
    "    return A * np.sin(2 * np.pi * (t - 1) / 12 + phi) + B\n",
    "\n",
    "# Fit the curve\n",
    "params, _ = curve_fit(seasonal_func, months, monthly_avg.values)\n",
    "A, phi, B = params\n",
    "print(f\"Fitted parameters: A = {A:.2f}, phi = {phi:.2f}, B = {B:.2f}\")"
   ]
  },
  {
   "cell_type": "markdown",
   "id": "752697da",
   "metadata": {},
   "source": [
    "**Fitted Parameters:**\n",
    "\n",
    "* Amplitude $A = 87.81$\n",
    "* Phase shift $\\phi = 0.13$\n",
    "* Baseline $B = 4237.56$"
   ]
  },
  {
   "cell_type": "markdown",
   "id": "0731044e",
   "metadata": {},
   "source": [
    "## 3.5 Visualization\n",
    "\n",
    "The plot below shows the observed average ED arrivals by month, with the fitted seasonal curve overlaid.\n"
   ]
  },
  {
   "cell_type": "code",
   "execution_count": 53,
   "id": "de1abe96",
   "metadata": {},
   "outputs": [
    {
     "data": {
      "image/png": "[encoded data removed]",
      "text/plain": [
       "<Figure size 1000x600 with 1 Axes>"
      ]
     },
     "metadata": {},
     "output_type": "display_data"
    }
   ],
   "source": [
    "import matplotlib.pyplot as plt\n",
    "\n",
    "ax = monthly_avg.plot(kind='bar', figsize=(10, 6), label='Observed monthly average')\n",
    "ax.plot(months - 1, seasonal_func(months, *params), color='red', marker='o', linestyle='-', label='Fitted seasonal pattern')\n",
    "\n",
    "plt.xlabel('Month')\n",
    "plt.ylabel('Average Daily ED Arrivals')\n",
    "plt.title('Average ED Arrivals per Month (Pre-COVID)')\n",
    "plt.xticks(ticks=np.arange(12), labels=['Jan', 'Feb', 'Mar', 'Apr', 'May', 'Jun', 'Jul', 'Aug', 'Sep', 'Oct', 'Nov', 'Dec'], rotation=0)\n",
    "plt.grid(axis='y')\n",
    "plt.legend()\n",
    "plt.tight_layout()\n",
    "plt.show()"
   ]
  },
  {
   "cell_type": "markdown",
   "id": "799166e0",
   "metadata": {},
   "source": [
    "## 3.6 Interpretation\n",
    "\n",
    "The fitted curve confirms moderate seasonal variation in ED arrivals:\n",
    "\n",
    "* Higher volumes in winter months (December–February),\n",
    "* Lower volumes in summer (June–August),\n",
    "* Overall fluctuation of about ±2% from the baseline.\n",
    "\n",
    "This seasonal pattern is consistent with healthcare literature (e.g., Gabbay et al., 2022), and the resulting function $f(m)$ is used in the simulation to modulate the base arrival rate by month."
   ]
  },
  {
   "cell_type": "markdown",
   "id": "947dc18d",
   "metadata": {},
   "source": [
    "\n",
    "## 3.7 Assumptions\n",
    "\n",
    "* **Seasonality is sinusoidal**: We assume no sharp or non-periodic effects beyond the smooth seasonal pattern.\n",
    "* **Years are exchangeable**: January 2017, 2018, and 2019 are considered comparable and averaged together.\n",
    "* **No trend**: No year-over-year growth or decline is modeled; the focus is purely on intra-year seasonality.\n",
    "\n",
    "This concludes the estimation of seasonal variation in ED arrivals. The next section will explore further adjustments based on day-of-week and time-of-day effects."
   ]
  },
  {
   "cell_type": "markdown",
   "id": "e0ea7c12",
   "metadata": {},
   "source": [
    "--- \n",
    "\n",
    "# 4. Weekday and Hourly Patterns\n",
    "\n",
    "In addition to seasonal variation, patient arrivals to emergency departments (EDs) exhibit predictable patterns by **day of the week** and **hour of the day**. These finer time resolutions are essential to accurately simulate temporal load fluctuations in a hospital setting.\n",
    "\n",
    "## 4.1 Day-of-the-Week Variation\n",
    "\n",
    "### Observed Trend (Literature-Based)\n",
    "\n",
    "Multiple studies (e.g., Gabbay et al., 2022; CDC NHAMCS 2019) report the following pattern:\n",
    "\n",
    "- **Highest volume on Mondays**, due to deferred weekend care.\n",
    "- **Lower volumes midweek**, gradually declining.\n",
    "- **Lowest arrivals on Sundays**.\n",
    "\n",
    "### Assumption\n",
    "\n",
    "Because direct day-of-week counts are not available in the dataset, we rely on external literature to define multiplicative factors that scale the monthly average volume per weekday:\n",
    "\n",
    "$$\n",
    "F_\\text{weekday}(d) = [0.8647,\\, 1.1324,\\, 1.0294,\\, 1.0294,\\, 1.0294,\\, 1.0088,\\, 0.9059]\n",
    "$$\n",
    "This array corresponds to:  **[Sunday, Monday, Tuesday, Wednesday, Thursday, Friday, Saturday]**\n",
    "\n",
    "<p align=\"center\">\n",
    "    <img src=\"images/Variation-in-number-of-ED-admissions-on-different-days-of-the-week.png\" alt=\"Variation in number of ED admissions on different days of the week\" width=\"50%\">\n",
    "</p>"
   ]
  },
  {
   "cell_type": "markdown",
   "id": "a1507f46",
   "metadata": {},
   "source": [
    "## 4.2 Hour-of-the-Day Variation\n",
    "\n",
    "### Observed Trend (Literature-Based)\n",
    "\n",
    "ED arrivals also follow a diurnal pattern:\n",
    "\n",
    "- **Lowest volumes early morning (00:00–06:00)**.\n",
    "- **Sharp increase from 08:00**, peaking late morning to early evening.\n",
    "- **Gradual decline overnight**.\n",
    "\n",
    "This shape is widely reported in operational studies of EDs (e.g., ACEPNow, 2022; NHAMCS).\n",
    "\n",
    "### Hourly Factors\n",
    "\n",
    "We define a 24-element vector $F_\\text{hour}(h)$ giving a multiplicative weight per hour $h = 0, 1, ..., 23$:"
   ]
  },
  {
   "cell_type": "code",
   "execution_count": 54,
   "id": "87ec0adf",
   "metadata": {},
   "outputs": [],
   "source": [
    "hour_factors = [\n",
    "    0.5236, 0.48, 0.4364, 0.3927, 0.3927, 0.3927,\n",
    "    0.3927, 0.5236, 0.96, 1.5273, 1.7455, 1.6582,\n",
    "    1.44, 1.3091, 1.6582, 1.3964, 1.1782, 1.1782,\n",
    "    1.1782, 1.1782, 1.1782, 1.1782, 0.96, 0.7418\n",
    "]"
   ]
  },
  {
   "cell_type": "markdown",
   "id": "580cb45c",
   "metadata": {},
   "source": [
    "These factors are normalized around the peak period and based on relative activity proportions from published datasets.\n",
    "\n",
    "### Visualization\n",
    "\n",
    "<p align=\"center\">\n",
    "    <img src=\"images/Variation-in-number-of-ED-admissions-at-different-times-of-day.png\" alt=\"Variation in number of ED admissions on different days of the week\" width=\"50%\">\n",
    "</p>"
   ]
  },
  {
   "cell_type": "markdown",
   "id": "4dfc3eed",
   "metadata": {},
   "source": [
    "## 4.3 Combined Arrival Model\n",
    "\n",
    "Combining all temporal components, the estimated arrival rate $\\lambda(m, d, h)$ for a given hour $h$ on date $d$ in month $m$ is defined as:\n",
    "\n",
    "$$\n",
    "\\lambda(m, d, h) = f(m) \\cdot F_\\text{weekday}(d) \\cdot F_\\text{hour}(h)\n",
    "$$\n",
    "\n",
    "Where:\n",
    "\n",
    "* $f(m)$ is the monthly seasonal trend (see Section 3),\n",
    "* $F_\\text{weekday}(d)$ scales based on the day of the week,\n",
    "* $F_\\text{hour}(h)$ scales based on time of day.\n",
    "\n",
    "This dynamic function allows the simulation to reflect realistic fluctuations in arrival intensity across time scales."
   ]
  },
  {
   "cell_type": "markdown",
   "id": "3489165a",
   "metadata": {},
   "source": [
    "## 4.4 Assumptions\n",
    "\n",
    "* **Independence**: Monthly, weekday, and hourly variations are treated as independent multiplicative factors.\n",
    "* **External calibration**: Day and hour factors are based on literature due to lack of temporal granularity in the dataset.\n",
    "* **Normalization**: All factors are relative and centered around the average daily arrival rate.\n",
    "\n",
    "This concludes the time-based modeling of ED arrival patterns. The next section focuses on assigning diagnoses to arriving patients.\n"
   ]
  },
  {
   "cell_type": "markdown",
   "id": "d01db7ba",
   "metadata": {},
   "source": [
    "---\n",
    "\n",
    "# 5. Diagnosis Distribution\n",
    "\n",
    "To simulate patient flow realistically, each arriving patient must be assigned a plausible diagnosis. This section derives a diagnosis distribution based on pre-COVID emergency department (ED) visit data from the HCUP T16a dataset.\n",
    "\n"
   ]
  },
  {
   "cell_type": "markdown",
   "id": "42c67bf9",
   "metadata": {},
   "source": [
    "\n",
    "## 5.1 Data Source and Selection\n",
    "\n",
    "We use the section titled:\n",
    "\n",
    "**\"Number of ED Treat-and-Release Visits for Symptoms Defined by Any-Listed Diagnosis\"**\n",
    "\n",
    "This section includes monthly visit counts for symptom-level diagnosis codes labeled as `SYM001` through `SYM017`.\n",
    "\n",
    "### Data Extraction:\n"
   ]
  },
  {
   "cell_type": "code",
   "execution_count": 55,
   "id": "04d10207",
   "metadata": {},
   "outputs": [],
   "source": [
    "ed_diagnosis = sections_T16a[\n",
    "    'Number of ED Treat-and-Release Visits for Symptoms Defined by Any-Listed Diagnosis'\n",
    "]\n",
    "\n",
    "# Keep only pre-COVID records\n",
    "pre_covid_diagnosis = ed_diagnosis.loc[ed_diagnosis.index < '2020-01-01']"
   ]
  },
  {
   "cell_type": "markdown",
   "id": "fdbe4786",
   "metadata": {},
   "source": [
    "## 5.2 Total Visit Counts per Diagnosis\n",
    "\n",
    "We compute the total number of ED visits for each diagnosis code across all pre-COVID months:"
   ]
  },
  {
   "cell_type": "code",
   "execution_count": 56,
   "id": "75302afa",
   "metadata": {},
   "outputs": [],
   "source": [
    "# Sum across all months\n",
    "diagnosis_totals = pre_covid_diagnosis.sum(axis=0)\n",
    "\n",
    "# Extract clean SYM code labels (drop long text descriptions)\n",
    "diagnosis_totals.index = diagnosis_totals.index.str.extract(r'(SYM\\d+)', expand=False)"
   ]
  },
  {
   "cell_type": "markdown",
   "id": "2c40d36d",
   "metadata": {},
   "source": [
    "## 5.3 Probability Distribution\n",
    "\n",
    "The counts are normalized into a discrete probability distribution to be used for random sampling during simulation.\n",
    "The chart below shows the total ED visits per diagnosis code from 2017–2019:"
   ]
  },
  {
   "cell_type": "code",
   "execution_count": 57,
   "id": "aff5a55c",
   "metadata": {},
   "outputs": [
    {
     "data": {
      "image/png": "[encoded data removed]",
      "text/plain": [
       "<Figure size 1200x600 with 1 Axes>"
      ]
     },
     "metadata": {},
     "output_type": "display_data"
    }
   ],
   "source": [
    "# Calculate total ED visits for each diagnosis code (sum over all months, pre-COVID)\n",
    "diagnosis_totals = pre_covid_diagnosis.sum(axis=0)\n",
    "\n",
    "# Transform the labels to only include the SYM code\n",
    "diagnosis_totals.index = diagnosis_totals.index.str.extract(r'(SYM\\d+)', expand=False)\n",
    "\n",
    "# Plot as a bar chart\n",
    "plt.figure(figsize=(12, 6))\n",
    "diagnosis_totals.sort_values(ascending=False).plot(kind='bar')\n",
    "plt.ylabel('Total ED Visits (2017-2019)')\n",
    "plt.xlabel('Diagnosis Code')\n",
    "plt.title('Distribution of ED Visits by Diagnosis (Pre-COVID)')\n",
    "plt.xticks(rotation=90, ha='right')\n",
    "plt.tight_layout()\n",
    "plt.show()"
   ]
  },
  {
   "cell_type": "markdown",
   "id": "53fef321",
   "metadata": {},
   "source": [
    "\n",
    "## 5.5 Diagnosis Codes\n",
    "\n",
    "| Code   | Description                                |\n",
    "| ------ | ------------------------------------------ |\n",
    "| SYM001 | Syncope                                    |\n",
    "| SYM002 | Fever                                      |\n",
    "| SYM003 | Shock                                      |\n",
    "| SYM004 | Nausea and vomiting                        |\n",
    "| SYM005 | Dysphagia                                  |\n",
    "| SYM006 | Abdominal/digestive symptoms               |\n",
    "| SYM007 | Malaise and fatigue                        |\n",
    "| SYM008 | Mental and substance use symptoms          |\n",
    "| SYM009 | Abnormal findings related to substance use |\n",
    "| SYM010 | Nervous system symptoms                    |\n",
    "| SYM011 | Genitourinary symptoms                     |\n",
    "| SYM012 | Circulatory symptoms                       |\n",
    "| SYM013 | Respiratory symptoms                       |\n",
    "| SYM014 | Skin/subcutaneous symptoms                 |\n",
    "| SYM015 | Sensation/perception symptoms              |\n",
    "| SYM016 | Other general symptoms                     |\n",
    "| SYM017 | Abnormal findings without diagnosis        |\n",
    "\n",
    "---\n",
    "\n",
    "## 5.6 Assumptions\n",
    "\n",
    "* **Independence**: Each diagnosis is sampled independently of others and of the time of arrival.\n",
    "* **Single-diagnosis model**: Each patient is assigned only one diagnosis code, simplifying multi-morbidity.\n",
    "* **Symptom-based coding**: Diagnosis probabilities are based on high-level symptom codes, not specific ICD-10 conditions.\n",
    "* **Historical stability**: The diagnosis distribution is assumed to be representative of future patterns, based on pre-COVID years.\n",
    "\n",
    "This concludes the derivation of the diagnosis distribution. The final section summarizes how all components are integrated into the arrival rate used for simulation.\n",
    "\n",
    "```"
   ]
  }
 ],
 "metadata": {
  "kernelspec": {
   "display_name": ".venv",
   "language": "python",
   "name": "python3"
  },
  "language_info": {
   "codemirror_mode": {
    "name": "ipython",
    "version": 3
   },
   "file_extension": ".py",
   "mimetype": "text/x-python",
   "name": "python",
   "nbconvert_exporter": "python",
   "pygments_lexer": "ipython3",
   "version": "3.13.0"
  }
 },
 "nbformat": 4,
 "nbformat_minor": 5
}
